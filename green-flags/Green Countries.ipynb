{
 "cells": [
  {
   "cell_type": "markdown",
   "metadata": {},
   "source": [
    "# Data Prep for Green Countries Project"
   ]
  },
  {
   "cell_type": "markdown",
   "metadata": {},
   "source": [
    "The purpose of this project is to create a visualization of the percentage of the colour green in the flags of all of the countries in the world."
   ]
  },
  {
   "cell_type": "markdown",
   "metadata": {},
   "source": [
    "Data Source: http://mkweb.bcgsc.ca/country.flags/ <br>\n",
    "*Note: This data uses the former flag of Mauritania (pre-2017) which contains more green than the current one.*"
   ]
  },
  {
   "cell_type": "code",
   "execution_count": 3,
   "metadata": {},
   "outputs": [],
   "source": [
    "import pandas as pd"
   ]
  },
  {
   "cell_type": "code",
   "execution_count": 4,
   "metadata": {},
   "outputs": [
    {
     "data": {
      "text/plain": [
       "'ac 3276800 3192204 0.974183 00247D:2337843,CF142B:304194,FFFFFF:275180,03A306:14598,F7F6F9:12879,F5F6F7:8233,CFCCCA:4311,15A015:4281,FCC497:4262,F7F5F7:3944,C8C2C3:3787,F6F6F8:3347,FDC896:3334,29192B:3230,18981F:3120,0F60CD:3105,E0E8EE:3084,DCE7ED:3062,0860CF:2907,053645:2891,0D162F:2656,216417:2482,AAA1AB:2427,119713:2398,023022:2292,21801D:2249,D4CBCC:2246,D2C3B3:2204,D9F4FC:2178,D7D3BA:2109,08AA0B:2085,961D04:2047,0C64CB:1937,ABB7D4:1908,287199:1876,9F1905:1863,A0250B:1859,B5A3A3:1848,432F45:1806,0D2457:1793,C1C0B4:1729,D9CDBC:1702,D7D6B9:1691,E3F1F5:1671,6F6786:1649,D6DCE4:1635,AFC2CD:1609,22213D:1606,8F2007:1579,D5DEEA:1535,E8C99F:1531,0969CE:1497,AC5B35:1476,EAF0F3:1460,CBC4BE:1437,035435:1436,E1B64B:1430,8E1B06:1423,434B63:1414,9D1E0C:1401,07363C:1347,DDB240:1331,94899A:1317,DB7A12:1308,023B38:1290,BDB4B0:1283,D0CCD6:1251,BAAE81:1185,0A6ACE:1177,D8AFA1:1176,0C66D1:1139,A61F07:1138,082855:1099,CE6D12:1060,034529:1056,942108:1043,185912:1038,A0431A:1034,2E9D21:1021,369333:1020,827C98:1013,0D69CB:1010,211E46:1006,4D2D34:1003,D3DFE6:988,932A07:983,014934:983,159124:977,043A3F:965,122820:954,4F91A3:946,8C6A33:939,112973:935,E1E2E0:925,DAA32C:924,4EAB49:917,DAE2F1:915,DBB067:897,1565C0:886,CD7C24:880,8D8DA1:875,052D52:866,1862C4:864,BCA2A6:856,D5731B:853,71B935:828,0B7F10:817,B27B3A:808,705E84:804,D9B895:798,5F6A62:785,D7E9EE:781,D89625:776,C77A29:758,41A223:748,01257E:744,C57C3E:738,136BCE:737,92130D:731,05431E:702,ADA0AA:695,873B3A:693,655254:692,3DAF38:684,094A17:680,8B849E:679,A7939D:675,D1D7E8:668,556DA8:668,CAD1E4:668,445EA0:668,7C7294:661,534060:660,267E1D:657,E2B140:645,830708:643,A34D18:643,E8DADC:641,DE9E3F:639,8F1A0F:630,9F3F0F:622,1564C5:620,5B3B35:612,CBCAD3:610,9F2D08:608,74434E:595,BFCDC7:593,0D4B3A:585,C56D1B:580,675676:579,5C372B:576,8C1908:575,355986:571,E2751E:570,9B2D04:566,2B4369:561,3D9C35:557,BD5B1A:555,1A66BF:555,0E354B:552,C55D20:546,A8B5C0:542,C2AC65:541,07A10E:527,D5C0AF:517,5EB72A:511,DADEEE:497,DFE1F5:490,843B06:488,893F07:488,8BCD4A:487,501716:486,1D9430:482,AACDDA:480,85C440:477,268D2C:468,207E18:466,32A030:460,7693A3:457,4C2A2A:456,E4DEC8:453,1261D6:451,7D656C:451,2D1A33:450,5D994A:444,F5D7A9:439,1E1E40:435,985C46:429,1A5422:427,F2C0C6:422,C3ACC3:422,DC5364:422,F4C8CD:422,DA4A5C:422,E2EBED:418,932109:417,2C1E2E:413,863608:413,319D47:408,A7874E:407,9B4C1C:403,18323C:403,8F3E03:401,05420F:398,351D1B:393,933F06:393,91734F:390,073612:389,B3A490:389,6D332F:383,2E0A1A:382,DBE9F7:382,BFC5A4:381,1E70B4:378,D3263C:377,D42B40:376,FDF6F7:376,E78995:376,EA99A3:376,FCF2F3:376,803503:374,CDD0D6:373,EFB2B9:372,3F7997:371,19203B:370,7E7488:367,034443:363,08A514:363,B4350A:360,E5DFE4:359,102F57:352,061A8B:351,2D5D59:349,F8AD75:344,45A414:344,2F954C:344,D9DFE0:344,665462:343,CC661F:339,83210E:338,E3E9EC:338,73BB49:337,023B2F:331'"
      ]
     },
     "execution_count": 4,
     "metadata": {},
     "output_type": "execute_result"
    }
   ],
   "source": [
    "with open(\"./Country_Flags_Colors.txt\") as f:\n",
    "    lines = [line.strip() for line in f.readlines()]\n",
    "lines[0]"
   ]
  },
  {
   "cell_type": "markdown",
   "metadata": {},
   "source": [
    "#### Dividing the information that I will need in the visualization into lists to use them later to create a Pandas DataFrame."
   ]
  },
  {
   "cell_type": "code",
   "execution_count": 5,
   "metadata": {},
   "outputs": [
    {
     "name": "stdout",
     "output_type": "stream",
     "text": [
      "['ac', 'ad', 'ae', 'af', 'ag']\n",
      "['3192204', '4542308', '3272960', '4302187', '4358732']\n",
      "[['00247D:2337843', 'CF142B:304194', 'FFFFFF:275180', '03A306:14598', 'F7F6F9:12879', 'F5F6F7:8233', 'CFCCCA:4311', '15A015:4281', 'FCC497:4262', 'F7F5F7:3944', 'C8C2C3:3787', 'F6F6F8:3347', 'FDC896:3334', '29192B:3230', '18981F:3120', '0F60CD:3105', 'E0E8EE:3084', 'DCE7ED:3062', '0860CF:2907', '053645:2891', '0D162F:2656', '216417:2482', 'AAA1AB:2427', '119713:2398', '023022:2292', '21801D:2249', 'D4CBCC:2246', 'D2C3B3:2204', 'D9F4FC:2178', 'D7D3BA:2109', '08AA0B:2085', '961D04:2047', '0C64CB:1937', 'ABB7D4:1908', '287199:1876', '9F1905:1863', 'A0250B:1859', 'B5A3A3:1848', '432F45:1806', '0D2457:1793', 'C1C0B4:1729', 'D9CDBC:1702', 'D7D6B9:1691', 'E3F1F5:1671', '6F6786:1649', 'D6DCE4:1635', 'AFC2CD:1609', '22213D:1606', '8F2007:1579', 'D5DEEA:1535', 'E8C99F:1531', '0969CE:1497', 'AC5B35:1476', 'EAF0F3:1460', 'CBC4BE:1437', '035435:1436', 'E1B64B:1430', '8E1B06:1423', '434B63:1414', '9D1E0C:1401', '07363C:1347', 'DDB240:1331', '94899A:1317', 'DB7A12:1308', '023B38:1290', 'BDB4B0:1283', 'D0CCD6:1251', 'BAAE81:1185', '0A6ACE:1177', 'D8AFA1:1176', '0C66D1:1139', 'A61F07:1138', '082855:1099', 'CE6D12:1060', '034529:1056', '942108:1043', '185912:1038', 'A0431A:1034', '2E9D21:1021', '369333:1020', '827C98:1013', '0D69CB:1010', '211E46:1006', '4D2D34:1003', 'D3DFE6:988', '932A07:983', '014934:983', '159124:977', '043A3F:965', '122820:954', '4F91A3:946', '8C6A33:939', '112973:935', 'E1E2E0:925', 'DAA32C:924', '4EAB49:917', 'DAE2F1:915', 'DBB067:897', '1565C0:886', 'CD7C24:880', '8D8DA1:875', '052D52:866', '1862C4:864', 'BCA2A6:856', 'D5731B:853', '71B935:828', '0B7F10:817', 'B27B3A:808', '705E84:804', 'D9B895:798', '5F6A62:785', 'D7E9EE:781', 'D89625:776', 'C77A29:758', '41A223:748', '01257E:744', 'C57C3E:738', '136BCE:737', '92130D:731', '05431E:702', 'ADA0AA:695', '873B3A:693', '655254:692', '3DAF38:684', '094A17:680', '8B849E:679', 'A7939D:675', 'D1D7E8:668', '556DA8:668', 'CAD1E4:668', '445EA0:668', '7C7294:661', '534060:660', '267E1D:657', 'E2B140:645', '830708:643', 'A34D18:643', 'E8DADC:641', 'DE9E3F:639', '8F1A0F:630', '9F3F0F:622', '1564C5:620', '5B3B35:612', 'CBCAD3:610', '9F2D08:608', '74434E:595', 'BFCDC7:593', '0D4B3A:585', 'C56D1B:580', '675676:579', '5C372B:576', '8C1908:575', '355986:571', 'E2751E:570', '9B2D04:566', '2B4369:561', '3D9C35:557', 'BD5B1A:555', '1A66BF:555', '0E354B:552', 'C55D20:546', 'A8B5C0:542', 'C2AC65:541', '07A10E:527', 'D5C0AF:517', '5EB72A:511', 'DADEEE:497', 'DFE1F5:490', '843B06:488', '893F07:488', '8BCD4A:487', '501716:486', '1D9430:482', 'AACDDA:480', '85C440:477', '268D2C:468', '207E18:466', '32A030:460', '7693A3:457', '4C2A2A:456', 'E4DEC8:453', '1261D6:451', '7D656C:451', '2D1A33:450', '5D994A:444', 'F5D7A9:439', '1E1E40:435', '985C46:429', '1A5422:427', 'F2C0C6:422', 'C3ACC3:422', 'DC5364:422', 'F4C8CD:422', 'DA4A5C:422', 'E2EBED:418', '932109:417', '2C1E2E:413', '863608:413', '319D47:408', 'A7874E:407', '9B4C1C:403', '18323C:403', '8F3E03:401', '05420F:398', '351D1B:393', '933F06:393', '91734F:390', '073612:389', 'B3A490:389', '6D332F:383', '2E0A1A:382', 'DBE9F7:382', 'BFC5A4:381', '1E70B4:378', 'D3263C:377', 'D42B40:376', 'FDF6F7:376', 'E78995:376', 'EA99A3:376', 'FCF2F3:376', '803503:374', 'CDD0D6:373', 'EFB2B9:372', '3F7997:371', '19203B:370', '7E7488:367', '034443:363', '08A514:363', 'B4350A:360', 'E5DFE4:359', '102F57:352', '061A8B:351', '2D5D59:349', 'F8AD75:344', '45A414:344', '2F954C:344', 'D9DFE0:344', '665462:343', 'CC661F:339', '83210E:338', 'E3E9EC:338', '73BB49:337', '023B2F:331'], ['D0103A:1467648', '0018A8:1467648', 'FEDF00:1260583', 'C7B37F:220508', 'D52B1E:71000', '703D29:35201', 'FFFFFF:8895', 'CBB722:1792', 'F5B60B:1792', 'C6B27E:1158', '75442E:818', '713E2A:754', '0065BD:750', '713E29:655', '936D4C:595', 'C0AA78:541', '865B3F:513', '72402B:506', '76452E:486', '7D4F36:465'], ['FF0000:819200', '00732F:817920', 'FFFFFF:817920', '000000:817920'], ['009900:1456071', '000000:1456071', 'BF0000:1203746', 'FFFFFF:150271', 'BD6B00:27635', '803200:1707', '7F0000:1707', 'FFFEFE:704', 'CA8933:589', 'BF0300:567', 'BD6800:563', 'BE2400:546', 'BD6C01:537', 'BD6900:528', 'BF0200:474', 'BD6600:471'], ['CE1126:2182159', '000000:1129393', '0072C6:474230', 'FFFFFF:332519', 'FCD116:237885', 'F1CD1E:1102', 'F4F9FD:1000', '0A0F13:444']]\n"
     ]
    }
   ],
   "source": [
    "country_codes = []\n",
    "num_pixels = []\n",
    "flag_colors = []\n",
    "for line in lines:\n",
    "    country, _, pixels, _, hex_list = line.split(' ')\n",
    "    country_codes.append(country)\n",
    "    num_pixels.append(pixels)\n",
    "    flag_colors.append(hex_list.split(','))\n",
    "print(country_codes[:5])\n",
    "print(num_pixels[:5])\n",
    "print(flag_colors[:5])"
   ]
  },
  {
   "cell_type": "markdown",
   "metadata": {},
   "source": [
    "##### I manually went through the Wikipedia list of all countries with green in their flag to gather all of the shades of green used."
   ]
  },
  {
   "cell_type": "code",
   "execution_count": 12,
   "metadata": {},
   "outputs": [],
   "source": [
    "greens = ('00966E', '007A36', '007229', '006747', '4AA657', '008751', '007934', '009C3B', '009E49', '1EB53A', '007A5E', '289728', '3D8E33', '12AD2B', '006B3F', '3E9A00', '009E60', '3A7728', '009460', '436F4D', '239F40', '007A3D', '008C45', '009B3A', '008C51', '00A651', '239E46', '006A44', '007E3A', '339E35', '14B53A', '00A95C', '006341', '006233', '007168', '009543', '008751', '008000', '01411C', '006600', '20603D', '009E49', '009E60', '12AD2B', '006C35', '00853F', '1EB53A', '215B33', '007A4D', '078930', '007229', '00534E', '00732F', '009543', '198A00', '006400', '009B48', '00AE65', '007F00', '435024', '006300', '1F601A', '12AD2B', '00A651', '406325', '128807', '016A15', '00785E', '00A551', '34B233', '0DB02B', '658D5C', '377E3F', '006A4E', '28AE66', '00843D', '319208')"
   ]
  },
  {
   "cell_type": "code",
   "execution_count": 14,
   "metadata": {},
   "outputs": [
    {
     "name": "stdout",
     "output_type": "stream",
     "text": [
      "The number of shades of green used in the flags is 77\n"
     ]
    }
   ],
   "source": [
    "print(\"The number of shades of green used in the flags is \"+str(len(greens)))"
   ]
  },
  {
   "cell_type": "markdown",
   "metadata": {},
   "source": [
    "#### Calculating the number of green pixels in the flag image"
   ]
  },
  {
   "cell_type": "code",
   "execution_count": 8,
   "metadata": {},
   "outputs": [
    {
     "data": {
      "text/plain": [
       "[0, 0, 817920, 0, 0]"
      ]
     },
     "execution_count": 8,
     "metadata": {},
     "output_type": "execute_result"
    }
   ],
   "source": [
    "green_pixels = []\n",
    "for flag in flag_colors:\n",
    "    green_pixels.append(0)\n",
    "    for item in flag:\n",
    "        color, pixels = item.split(':')\n",
    "        if color in greens:\n",
    "            green_pixels[-1] += int(pixels)\n",
    "green_pixels[:5]"
   ]
  },
  {
   "cell_type": "markdown",
   "metadata": {},
   "source": [
    "#### Creating the DataFrame"
   ]
  },
  {
   "cell_type": "code",
   "execution_count": 9,
   "metadata": {},
   "outputs": [
    {
     "data": {
      "text/html": [
       "<div>\n",
       "<style scoped>\n",
       "    .dataframe tbody tr th:only-of-type {\n",
       "        vertical-align: middle;\n",
       "    }\n",
       "\n",
       "    .dataframe tbody tr th {\n",
       "        vertical-align: top;\n",
       "    }\n",
       "\n",
       "    .dataframe thead th {\n",
       "        text-align: right;\n",
       "    }\n",
       "</style>\n",
       "<table border=\"1\" class=\"dataframe\">\n",
       "  <thead>\n",
       "    <tr style=\"text-align: right;\">\n",
       "      <th></th>\n",
       "      <th>Country codes</th>\n",
       "      <th>Sampled pixels</th>\n",
       "      <th>Green pixels</th>\n",
       "      <th>Flag colors</th>\n",
       "    </tr>\n",
       "  </thead>\n",
       "  <tbody>\n",
       "    <tr>\n",
       "      <th>0</th>\n",
       "      <td>ac</td>\n",
       "      <td>3192204</td>\n",
       "      <td>0</td>\n",
       "      <td>[00247D:2337843, CF142B:304194, FFFFFF:275180,...</td>\n",
       "    </tr>\n",
       "    <tr>\n",
       "      <th>1</th>\n",
       "      <td>ad</td>\n",
       "      <td>4542308</td>\n",
       "      <td>0</td>\n",
       "      <td>[D0103A:1467648, 0018A8:1467648, FEDF00:126058...</td>\n",
       "    </tr>\n",
       "    <tr>\n",
       "      <th>2</th>\n",
       "      <td>ae</td>\n",
       "      <td>3272960</td>\n",
       "      <td>817920</td>\n",
       "      <td>[FF0000:819200, 00732F:817920, FFFFFF:817920, ...</td>\n",
       "    </tr>\n",
       "    <tr>\n",
       "      <th>3</th>\n",
       "      <td>af</td>\n",
       "      <td>4302187</td>\n",
       "      <td>0</td>\n",
       "      <td>[009900:1456071, 000000:1456071, BF0000:120374...</td>\n",
       "    </tr>\n",
       "    <tr>\n",
       "      <th>4</th>\n",
       "      <td>ag</td>\n",
       "      <td>4358732</td>\n",
       "      <td>0</td>\n",
       "      <td>[CE1126:2182159, 000000:1129393, 0072C6:474230...</td>\n",
       "    </tr>\n",
       "    <tr>\n",
       "      <th>5</th>\n",
       "      <td>ai</td>\n",
       "      <td>3268318</td>\n",
       "      <td>0</td>\n",
       "      <td>[00247D:2436912, FFFFFF:415112, CF142B:304194,...</td>\n",
       "    </tr>\n",
       "    <tr>\n",
       "      <th>6</th>\n",
       "      <td>al</td>\n",
       "      <td>4661794</td>\n",
       "      <td>0</td>\n",
       "      <td>[E41E20:4101291, 000000:560503]</td>\n",
       "    </tr>\n",
       "    <tr>\n",
       "      <th>7</th>\n",
       "      <td>am</td>\n",
       "      <td>3276800</td>\n",
       "      <td>0</td>\n",
       "      <td>[D90012:1090560, 0033A0:1090560, F2A800:109056...</td>\n",
       "    </tr>\n",
       "    <tr>\n",
       "      <th>8</th>\n",
       "      <td>ao</td>\n",
       "      <td>4360530</td>\n",
       "      <td>0</td>\n",
       "      <td>[CE1126:2102505, 000000:2055554, F9D616:200076...</td>\n",
       "    </tr>\n",
       "    <tr>\n",
       "      <th>9</th>\n",
       "      <td>aq</td>\n",
       "      <td>4361981</td>\n",
       "      <td>0</td>\n",
       "      <td>[3A7DCE:2989478, FFFFFF:1372503]</td>\n",
       "    </tr>\n",
       "    <tr>\n",
       "      <th>10</th>\n",
       "      <td>ar</td>\n",
       "      <td>4069368</td>\n",
       "      <td>0</td>\n",
       "      <td>[74ACDF:2728960, FFFFFF:1270733, F6B40E:38810,...</td>\n",
       "    </tr>\n",
       "    <tr>\n",
       "      <th>11</th>\n",
       "      <td>as</td>\n",
       "      <td>3243681</td>\n",
       "      <td>0</td>\n",
       "      <td>[000066:1635840, FFFFFF:1029088, BD1021:327104...</td>\n",
       "    </tr>\n",
       "    <tr>\n",
       "      <th>12</th>\n",
       "      <td>at</td>\n",
       "      <td>4369920</td>\n",
       "      <td>0</td>\n",
       "      <td>[ED2939:2913280, FFFFFF:1456640]</td>\n",
       "    </tr>\n",
       "    <tr>\n",
       "      <th>13</th>\n",
       "      <td>au</td>\n",
       "      <td>3270687</td>\n",
       "      <td>0</td>\n",
       "      <td>[00008B:2585982, FFFFFF:370654, FF0000:304194,...</td>\n",
       "    </tr>\n",
       "    <tr>\n",
       "      <th>14</th>\n",
       "      <td>aw</td>\n",
       "      <td>4366145</td>\n",
       "      <td>0</td>\n",
       "      <td>[4189DD:3803596, F9D616:481280, D21034:44463, ...</td>\n",
       "    </tr>\n",
       "    <tr>\n",
       "      <th>15</th>\n",
       "      <td>ax</td>\n",
       "      <td>4285434</td>\n",
       "      <td>0</td>\n",
       "      <td>[0053A5:2439060, FFCE00:1041936, D21034:791448...</td>\n",
       "    </tr>\n",
       "    <tr>\n",
       "      <th>16</th>\n",
       "      <td>az</td>\n",
       "      <td>3273516</td>\n",
       "      <td>1090560</td>\n",
       "      <td>[00AE65:1090560, 0098C3:1090560, E00034:103481...</td>\n",
       "    </tr>\n",
       "    <tr>\n",
       "      <th>17</th>\n",
       "      <td>ba</td>\n",
       "      <td>3269782</td>\n",
       "      <td>0</td>\n",
       "      <td>[002395:2319344, FECB00:817281, FFFFFF:129320,...</td>\n",
       "    </tr>\n",
       "    <tr>\n",
       "      <th>18</th>\n",
       "      <td>bb</td>\n",
       "      <td>4365952</td>\n",
       "      <td>0</td>\n",
       "      <td>[00267F:2912142, FFC726:1284525, 000000:164762...</td>\n",
       "    </tr>\n",
       "    <tr>\n",
       "      <th>19</th>\n",
       "      <td>bd</td>\n",
       "      <td>3928367</td>\n",
       "      <td>3106622</td>\n",
       "      <td>[006A4E:3106622, F42A41:821745]</td>\n",
       "    </tr>\n",
       "    <tr>\n",
       "      <th>20</th>\n",
       "      <td>be</td>\n",
       "      <td>5680640</td>\n",
       "      <td>0</td>\n",
       "      <td>[ED2939:1892807, 000000:1892807, FAE042:189058...</td>\n",
       "    </tr>\n",
       "    <tr>\n",
       "      <th>21</th>\n",
       "      <td>bf</td>\n",
       "      <td>4367425</td>\n",
       "      <td>2141880</td>\n",
       "      <td>[009E49:2141880, EF2B2D:2133665, FCD116:89622,...</td>\n",
       "    </tr>\n",
       "    <tr>\n",
       "      <th>22</th>\n",
       "      <td>bg</td>\n",
       "      <td>3932160</td>\n",
       "      <td>1310720</td>\n",
       "      <td>[FFFFFF:1310720, 00966E:1310720, D62612:1310720]</td>\n",
       "    </tr>\n",
       "    <tr>\n",
       "      <th>23</th>\n",
       "      <td>bh</td>\n",
       "      <td>3927048</td>\n",
       "      <td>0</td>\n",
       "      <td>[CE1126:2658122, FFFFFF:1268926]</td>\n",
       "    </tr>\n",
       "    <tr>\n",
       "      <th>24</th>\n",
       "      <td>bi</td>\n",
       "      <td>3916163</td>\n",
       "      <td>1351855</td>\n",
       "      <td>[FFFFFF:1355811, 1EB53A:1351855, CE1126:1208497]</td>\n",
       "    </tr>\n",
       "  </tbody>\n",
       "</table>\n",
       "</div>"
      ],
      "text/plain": [
       "   Country codes Sampled pixels  Green pixels  \\\n",
       "0             ac        3192204             0   \n",
       "1             ad        4542308             0   \n",
       "2             ae        3272960        817920   \n",
       "3             af        4302187             0   \n",
       "4             ag        4358732             0   \n",
       "5             ai        3268318             0   \n",
       "6             al        4661794             0   \n",
       "7             am        3276800             0   \n",
       "8             ao        4360530             0   \n",
       "9             aq        4361981             0   \n",
       "10            ar        4069368             0   \n",
       "11            as        3243681             0   \n",
       "12            at        4369920             0   \n",
       "13            au        3270687             0   \n",
       "14            aw        4366145             0   \n",
       "15            ax        4285434             0   \n",
       "16            az        3273516       1090560   \n",
       "17            ba        3269782             0   \n",
       "18            bb        4365952             0   \n",
       "19            bd        3928367       3106622   \n",
       "20            be        5680640             0   \n",
       "21            bf        4367425       2141880   \n",
       "22            bg        3932160       1310720   \n",
       "23            bh        3927048             0   \n",
       "24            bi        3916163       1351855   \n",
       "\n",
       "                                          Flag colors  \n",
       "0   [00247D:2337843, CF142B:304194, FFFFFF:275180,...  \n",
       "1   [D0103A:1467648, 0018A8:1467648, FEDF00:126058...  \n",
       "2   [FF0000:819200, 00732F:817920, FFFFFF:817920, ...  \n",
       "3   [009900:1456071, 000000:1456071, BF0000:120374...  \n",
       "4   [CE1126:2182159, 000000:1129393, 0072C6:474230...  \n",
       "5   [00247D:2436912, FFFFFF:415112, CF142B:304194,...  \n",
       "6                     [E41E20:4101291, 000000:560503]  \n",
       "7   [D90012:1090560, 0033A0:1090560, F2A800:109056...  \n",
       "8   [CE1126:2102505, 000000:2055554, F9D616:200076...  \n",
       "9                    [3A7DCE:2989478, FFFFFF:1372503]  \n",
       "10  [74ACDF:2728960, FFFFFF:1270733, F6B40E:38810,...  \n",
       "11  [000066:1635840, FFFFFF:1029088, BD1021:327104...  \n",
       "12                   [ED2939:2913280, FFFFFF:1456640]  \n",
       "13  [00008B:2585982, FFFFFF:370654, FF0000:304194,...  \n",
       "14  [4189DD:3803596, F9D616:481280, D21034:44463, ...  \n",
       "15  [0053A5:2439060, FFCE00:1041936, D21034:791448...  \n",
       "16  [00AE65:1090560, 0098C3:1090560, E00034:103481...  \n",
       "17  [002395:2319344, FECB00:817281, FFFFFF:129320,...  \n",
       "18  [00267F:2912142, FFC726:1284525, 000000:164762...  \n",
       "19                    [006A4E:3106622, F42A41:821745]  \n",
       "20  [ED2939:1892807, 000000:1892807, FAE042:189058...  \n",
       "21  [009E49:2141880, EF2B2D:2133665, FCD116:89622,...  \n",
       "22   [FFFFFF:1310720, 00966E:1310720, D62612:1310720]  \n",
       "23                   [CE1126:2658122, FFFFFF:1268926]  \n",
       "24   [FFFFFF:1355811, 1EB53A:1351855, CE1126:1208497]  "
      ]
     },
     "execution_count": 9,
     "metadata": {},
     "output_type": "execute_result"
    }
   ],
   "source": [
    "d = {'Country codes':country_codes, 'Sampled pixels': num_pixels, 'Green pixels': green_pixels,'Flag colors': flag_colors}\n",
    "df = pd.DataFrame(data=d)\n",
    "df[:25]"
   ]
  },
  {
   "cell_type": "code",
   "execution_count": 10,
   "metadata": {},
   "outputs": [
    {
     "data": {
      "text/plain": [
       "Country codes     object\n",
       "Sampled pixels     int64\n",
       "Green pixels       int64\n",
       "Flag colors       object\n",
       "dtype: object"
      ]
     },
     "execution_count": 10,
     "metadata": {},
     "output_type": "execute_result"
    }
   ],
   "source": [
    "df = df.astype({'Sampled pixels': 'int64'})\n",
    "df.dtypes"
   ]
  },
  {
   "cell_type": "markdown",
   "metadata": {},
   "source": [
    "#### Exporting the prepared data"
   ]
  },
  {
   "cell_type": "code",
   "execution_count": 11,
   "metadata": {},
   "outputs": [],
   "source": [
    "# df.to_excel('Flag_color_data.xlsx')"
   ]
  },
  {
   "cell_type": "markdown",
   "metadata": {},
   "source": [
    "*Creating the data visualization is done using Tableau and Datawrapper*"
   ]
  }
 ],
 "metadata": {
  "kernelspec": {
   "display_name": "Python 3",
   "language": "python",
   "name": "python3"
  },
  "language_info": {
   "codemirror_mode": {
    "name": "ipython",
    "version": 3
   },
   "file_extension": ".py",
   "mimetype": "text/x-python",
   "name": "python",
   "nbconvert_exporter": "python",
   "pygments_lexer": "ipython3",
   "version": "3.7.3"
  }
 },
 "nbformat": 4,
 "nbformat_minor": 2
}
